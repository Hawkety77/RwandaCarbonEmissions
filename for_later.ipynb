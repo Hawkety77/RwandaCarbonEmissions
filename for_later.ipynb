{
 "cells": [
  {
   "cell_type": "code",
   "execution_count": null,
   "metadata": {},
   "outputs": [],
   "source": []
  },
  {
   "cell_type": "code",
   "execution_count": null,
   "metadata": {},
   "outputs": [],
   "source": [
    "features = [75]\n",
    "features.extend(list(range(0, 74)))\n",
    "df_1 = df.iloc[:, features]\n",
    "corr_matrix = df_1.corr()\n",
    "sn.heatmap(corr_matrix, annot=False)\n",
    "plt.show()"
   ]
  },
  {
   "cell_type": "code",
   "execution_count": null,
   "metadata": {},
   "outputs": [],
   "source": [
    "df_2 = (df\n",
    "        .corr()\n",
    "        .loc[:, 'emission']\n",
    "        .sort_values())\n",
    "print(df_2)"
   ]
  },
  {
   "cell_type": "code",
   "execution_count": null,
   "metadata": {},
   "outputs": [],
   "source": [
    "df.longitude.drop_duplicates()"
   ]
  },
  {
   "cell_type": "code",
   "execution_count": null,
   "metadata": {},
   "outputs": [],
   "source": [
    "df_3 = (df\n",
    "        .query(\"longitude == 29.290\"))\n",
    "plt.figure(figsize=(15, 10))\n",
    "plt.plot(df_3.query(\"year == 2019\").week_no, df_3.query(\"year == 2019\").emission, color = 'red')\n",
    "plt.plot(df_3.query(\"year == 2020\").week_no, df_3.query(\"year == 2020\").emission, color = 'blue')\n",
    "plt.plot(df_3.query(\"year == 2021\").week_no, df_3.query(\"year == 2021\").emission, color = 'green')\n",
    "plt.axhline()\n",
    "plt.show()"
   ]
  }
 ],
 "metadata": {
  "kernelspec": {
   "display_name": "Python 3",
   "language": "python",
   "name": "python3"
  },
  "language_info": {
   "name": "python",
   "version": "3.11.1 (v3.11.1:a7a450f84a, Dec  6 2022, 15:24:06) [Clang 13.0.0 (clang-1300.0.29.30)]"
  },
  "orig_nbformat": 4,
  "vscode": {
   "interpreter": {
    "hash": "aee8b7b246df8f9039afb4144a1f6fd8d2ca17a180786b69acc140d282b71a49"
   }
  }
 },
 "nbformat": 4,
 "nbformat_minor": 2
}
