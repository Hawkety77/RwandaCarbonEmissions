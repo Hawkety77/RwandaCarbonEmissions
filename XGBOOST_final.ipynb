{
 "cells": [
  {
   "cell_type": "code",
   "execution_count": 5,
   "metadata": {},
   "outputs": [],
   "source": [
    "import pandas as pd\n",
    "import numpy as np\n",
    "import matplotlib.pyplot as plt\n",
    "from sklearn.model_selection import train_test_split\n",
    "from xgboost import XGBRegressor\n",
    "from sklearn.metrics import mean_absolute_error, mean_squared_error\n",
    "from datetime import datetime, timedelta\n",
    "\n",
    "def week_year_to_date(year, week):\n",
    "    starting_date = datetime(int(year), 1, 1)\n",
    "    return starting_date + timedelta(int(week)*7-7)"
   ]
  },
  {
   "cell_type": "code",
   "execution_count": 6,
   "metadata": {},
   "outputs": [],
   "source": [
    "df = pd.read_csv('train.csv')\n",
    "df_test = pd.read_csv('test.csv')"
   ]
  },
  {
   "cell_type": "code",
   "execution_count": 7,
   "metadata": {},
   "outputs": [],
   "source": [
    "df_grouped = df.groupby(['longitude', 'latitude'])\n",
    "lst = []\n",
    "for name, group_df in df_grouped:\n",
    "    group_df['rolling_emission3'] = group_df['emission'].rolling(window = 3, center = True).mean()\n",
    "    group_df['rolling_emission5'] = group_df['emission'].rolling(window = 5, center = True).mean()\n",
    "    group_df['rolling_emission7'] = group_df['emission'].rolling(window = 7, center = True).mean()\n",
    "    group_df['rolling_emission9'] = group_df['emission'].rolling(window = 9, center = True).mean()\n",
    "    group_df = group_df.interpolate(method='linear', limit_direction='both')\n",
    "    lst.append(group_df)\n",
    "df = pd.concat(lst)\n",
    "\n",
    "last_year_df = (df\n",
    "                .assign(year=df['year'] + 1)\n",
    "                .loc[:, ['year', 'week_no', 'longitude', 'latitude', 'emission', 'rolling_emission3', 'rolling_emission5', 'rolling_emission7','rolling_emission9']]\n",
    "                .rename(columns={'emission': 'last_year_emission'\n",
    "                                 , 'rolling_emission3': 'ly_rolling_emission3'\n",
    "                                 , 'rolling_emission5': 'ly_rolling_emission5'\n",
    "                                 , 'rolling_emission7': 'ly_rolling_emission7'\n",
    "                                 , 'rolling_emission9': 'ly_rolling_emission9'}))\n",
    "df = pd.merge(df, last_year_df, on = ['year', 'week_no', 'longitude', 'latitude'], how = 'left')\n",
    "df['date'] =  df.apply(lambda row : week_year_to_date(row.year, row.week_no), axis = 1)"
   ]
  },
  {
   "cell_type": "code",
   "execution_count": 8,
   "metadata": {},
   "outputs": [],
   "source": [
    "date_start = datetime(2020, 3, 1)\n",
    "date_end = datetime(2020, 9, 30)\n",
    "df = (df\n",
    "      .query(\"year != 2019\")\n",
    "      .query(\"date < @date_start or date > @date_end\")\n",
    "      .loc[:, ['year'\n",
    "               , 'week_no'\n",
    "               , 'last_year_emission'\n",
    "               , 'ly_rolling_emission3'\n",
    "               , 'ly_rolling_emission5'\n",
    "               , 'ly_rolling_emission7'\n",
    "               , 'ly_rolling_emission9'\n",
    "               , 'emission']])"
   ]
  },
  {
   "cell_type": "code",
   "execution_count": null,
   "metadata": {},
   "outputs": [],
   "source": [
    "x_train = df.drop(columns = ['emission'])\n",
    "x_test = df_test \n",
    "y_train = df.emission\n",
    "model = XGBRegressor()\n",
    "model.fit(x_train, y_train)"
   ]
  },
  {
   "attachments": {},
   "cell_type": "markdown",
   "metadata": {},
   "source": [
    "Design x_test"
   ]
  },
  {
   "cell_type": "code",
   "execution_count": 14,
   "metadata": {},
   "outputs": [],
   "source": [
    "df = pd.read_csv('train.csv')\n",
    "df_test = pd.read_csv('test.csv')"
   ]
  },
  {
   "cell_type": "code",
   "execution_count": 15,
   "metadata": {},
   "outputs": [],
   "source": [
    "df_grouped = df.groupby(['longitude', 'latitude'])\n",
    "lst = []\n",
    "for name, group_df in df_grouped:\n",
    "    group_df['rolling_emission3'] = group_df['emission'].rolling(window = 3, center = True).mean()\n",
    "    group_df['rolling_emission5'] = group_df['emission'].rolling(window = 5, center = True).mean()\n",
    "    group_df['rolling_emission7'] = group_df['emission'].rolling(window = 7, center = True).mean()\n",
    "    group_df['rolling_emission9'] = group_df['emission'].rolling(window = 9, center = True).mean()\n",
    "    group_df = group_df.interpolate(method='linear', limit_direction='both')\n",
    "    lst.append(group_df)\n",
    "df = pd.concat(lst)\n",
    "\n",
    "last_year_df = (df\n",
    "                .assign(year=df['year'] + 1)\n",
    "                .loc[:, ['year', 'week_no', 'longitude', 'latitude', 'emission', 'rolling_emission3', 'rolling_emission5', 'rolling_emission7','rolling_emission9']]\n",
    "                .rename(columns={'emission': 'last_year_emission'\n",
    "                                 , 'rolling_emission3': 'ly_rolling_emission3'\n",
    "                                 , 'rolling_emission5': 'ly_rolling_emission5'\n",
    "                                 , 'rolling_emission7': 'ly_rolling_emission7'\n",
    "                                 , 'rolling_emission9': 'ly_rolling_emission9'}))\n",
    "df_test = pd.merge(df_test, last_year_df, on = ['year', 'week_no', 'longitude', 'latitude'], how = 'left')\n",
    "df_test['date'] =  df_test.apply(lambda row : week_year_to_date(row.year, row.week_no), axis = 1)\n",
    "\n",
    "date_start = datetime(2020, 3, 1)\n",
    "date_end = datetime(2020, 9, 30)\n",
    "df_test = (df_test\n",
    "      .query(\"year != 2019\")\n",
    "      .query(\"date < @date_start or date > @date_end\")\n",
    "      .loc[:, ['year'\n",
    "               , 'week_no'\n",
    "               , 'latitude' \n",
    "               , 'longitude'\n",
    "               , 'last_year_emission'\n",
    "               , 'ly_rolling_emission3'\n",
    "               , 'ly_rolling_emission5'\n",
    "               , 'ly_rolling_emission7'\n",
    "               , 'ly_rolling_emission9']])\n"
   ]
  },
  {
   "cell_type": "code",
   "execution_count": 16,
   "metadata": {},
   "outputs": [],
   "source": [
    "\n",
    "y_pred = model.predict(df_test.drop(columns=['latitude', 'longitude']))\n",
    "y_pred = pd.DataFrame({'prediction': y_pred})\n",
    "df_test['emission'] = y_pred\n",
    "final_result = df_test"
   ]
  },
  {
   "cell_type": "code",
   "execution_count": 18,
   "metadata": {},
   "outputs": [],
   "source": [
    "id_table = (pd.read_csv('test.csv')\n",
    "            .loc[:, ['longitude', 'latitude', 'year', 'week_no', 'ID_LAT_LON_YEAR_WEEK']])\n",
    "export = (pd.merge(final_result, id_table, on = ['year', 'week_no', 'longitude', 'latitude'], how = 'left')\n",
    "            .loc[:, ['ID_LAT_LON_YEAR_WEEK', 'emission']])\n",
    "export.to_csv('submission_3.csv', index=False)"
   ]
  }
 ],
 "metadata": {
  "kernelspec": {
   "display_name": "Python 3",
   "language": "python",
   "name": "python3"
  },
  "language_info": {
   "codemirror_mode": {
    "name": "ipython",
    "version": 3
   },
   "file_extension": ".py",
   "mimetype": "text/x-python",
   "name": "python",
   "nbconvert_exporter": "python",
   "pygments_lexer": "ipython3",
   "version": "3.11.1"
  },
  "orig_nbformat": 4,
  "vscode": {
   "interpreter": {
    "hash": "aee8b7b246df8f9039afb4144a1f6fd8d2ca17a180786b69acc140d282b71a49"
   }
  }
 },
 "nbformat": 4,
 "nbformat_minor": 2
}
