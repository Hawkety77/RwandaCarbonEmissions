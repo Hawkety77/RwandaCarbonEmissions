{
 "cells": [
  {
   "cell_type": "code",
   "execution_count": 1,
   "metadata": {},
   "outputs": [],
   "source": [
    "import pandas as pd\n",
    "import numpy as np\n",
    "import matplotlib.pyplot as plt\n",
    "from sklearn.model_selection import train_test_split\n",
    "from xgboost import XGBRegressor\n",
    "from sklearn.metrics import mean_absolute_error, mean_squared_error\n",
    "from datetime import datetime, timedelta\n",
    "\n",
    "def week_year_to_date(year, week):\n",
    "    starting_date = datetime(int(year), 1, 1)\n",
    "    return starting_date + timedelta(int(week)*7-7)"
   ]
  },
  {
   "cell_type": "code",
   "execution_count": 2,
   "metadata": {},
   "outputs": [],
   "source": [
    "df = pd.read_csv('train.csv')\n",
    "df_test = pd.read_csv('test.csv')"
   ]
  },
  {
   "cell_type": "code",
   "execution_count": 3,
   "metadata": {},
   "outputs": [],
   "source": [
    "df_grouped = df.groupby(['longitude', 'latitude'])\n",
    "lst = []\n",
    "for name, group_df in df_grouped:\n",
    "    group_df['rolling_emission3'] = group_df['emission'].rolling(window = 3, center = True).mean()\n",
    "    group_df['rolling_emission5'] = group_df['emission'].rolling(window = 5, center = True).mean()\n",
    "    group_df['rolling_emission7'] = group_df['emission'].rolling(window = 7, center = True).mean()\n",
    "    group_df['rolling_emission9'] = group_df['emission'].rolling(window = 9, center = True).mean()\n",
    "    group_df['rolling_SulphurDioxide_SO2_column_number_density'] = group_df['SulphurDioxide_SO2_column_number_density'].rolling(window = 3, center = True).mean()\n",
    "    group_df['rolling_CarbonMonoxide_CO_column_number_density'] = group_df['CarbonMonoxide_CO_column_number_density'].rolling(window = 3, center = True).mean()\n",
    "    group_df['rolling_NitrogenDioxide_tropospheric_NO2_column_number_density'] = group_df['NitrogenDioxide_tropospheric_NO2_column_number_density'].rolling(window = 3, center = True).mean()\n",
    "    group_df['rolling_Formaldehyde_tropospheric_HCHO_column_number_density'] = group_df['Formaldehyde_tropospheric_HCHO_column_number_density'].rolling(window = 3, center = True).mean()\n",
    "    group_df['week_lag_emission'] = group_df['emission'].shift(1)\n",
    "    group_df['week_future_lag_emission'] = group_df['emission'].shift(-1)\n",
    "    group_df = group_df.interpolate(method='linear', limit_direction='both')\n",
    "    lst.append(group_df)\n",
    "df = pd.concat(lst)\n",
    "\n",
    "last_year_df = (df\n",
    "                .assign(year=df['year'] + 1)\n",
    "                .loc[:, ['year'\n",
    "                         , 'week_no'\n",
    "                         , 'longitude'\n",
    "                         , 'latitude'\n",
    "                         , 'emission'\n",
    "                         , 'rolling_emission3'\n",
    "                         , 'rolling_emission5'\n",
    "                         , 'rolling_emission7'\n",
    "                         , 'rolling_emission9'\n",
    "                         , 'rolling_SulphurDioxide_SO2_column_number_density'\n",
    "                         , 'rolling_CarbonMonoxide_CO_column_number_density'\n",
    "                         , 'rolling_NitrogenDioxide_tropospheric_NO2_column_number_density'\n",
    "                         , 'rolling_Formaldehyde_tropospheric_HCHO_column_number_density']]\n",
    "                .rename(columns={'emission': 'last_year_emission'\n",
    "                                 , 'rolling_emission3': 'ly_rolling_emission3'\n",
    "                                 , 'rolling_emission5': 'ly_rolling_emission5'\n",
    "                                 , 'rolling_emission7': 'ly_rolling_emission7'\n",
    "                                 , 'rolling_emission9': 'ly_rolling_emission9'\n",
    "                                 , 'rolling_SulphurDioxide_SO2_column_number_density' : 'ly_rolling_SulphurDioxide_SO2_column_number_density'\n",
    "                                 , 'rolling_CarbonMonoxide_CO_column_number_density': 'ly_rolling_CarbonMonoxide_CO_column_number_density'\n",
    "                                 , 'rolling_NitrogenDioxide_tropospheric_NO2_column_number_density': 'ly_rolling_NitrogenDioxide_tropospheric_NO2_column_number_density'\n",
    "                                 , 'rolling_Formaldehyde_tropospheric_HCHO_column_number_density': 'ly_rolling_Formaldehyde_tropospheric_HCHO_column_number_density'}))\n",
    "df = pd.merge(df, last_year_df, on = ['year', 'week_no', 'longitude', 'latitude'], how = 'left')\n",
    "df['date'] =  df.apply(lambda row : week_year_to_date(row.year, row.week_no), axis = 1)\n",
    "df['rolling_SulphurDioxide_SO2_column_number_density_difference'] = df['rolling_SulphurDioxide_SO2_column_number_density'] - df['ly_rolling_SulphurDioxide_SO2_column_number_density']\n",
    "df['rolling_CarbonMonoxide_CO_column_number_density_difference'] = df['rolling_CarbonMonoxide_CO_column_number_density'] - df['ly_rolling_CarbonMonoxide_CO_column_number_density']\n",
    "df['rolling_NitrogenDioxide_tropospheric_NO2_column_number_density_difference'] = df['rolling_NitrogenDioxide_tropospheric_NO2_column_number_density'] - df['ly_rolling_NitrogenDioxide_tropospheric_NO2_column_number_density']\n",
    "df['rolling_Formaldehyde_tropospheric_HCHO_column_number_density_difference'] = df['rolling_Formaldehyde_tropospheric_HCHO_column_number_density'] - df['ly_rolling_Formaldehyde_tropospheric_HCHO_column_number_density']"
   ]
  },
  {
   "cell_type": "code",
   "execution_count": 4,
   "metadata": {},
   "outputs": [],
   "source": [
    "date_start = datetime(2020, 3, 1)\n",
    "date_end = datetime(2020, 9, 30)\n",
    "df = (df\n",
    "      .query(\"year != 2019\")\n",
    "      .query(\"date < @date_start or date > @date_end\")\n",
    "      .loc[:, ['week_no'\n",
    "               , 'last_year_emission'\n",
    "               , 'ly_rolling_emission3'\n",
    "               , 'ly_rolling_emission5'\n",
    "               , 'ly_rolling_emission7'\n",
    "               , 'ly_rolling_emission9'\n",
    "               , 'ly_rolling_SulphurDioxide_SO2_column_number_density'\n",
    "               , 'ly_rolling_CarbonMonoxide_CO_column_number_density'\n",
    "               , 'ly_rolling_NitrogenDioxide_tropospheric_NO2_column_number_density'\n",
    "               , 'ly_rolling_Formaldehyde_tropospheric_HCHO_column_number_density'\n",
    "               , 'emission']])"
   ]
  },
  {
   "cell_type": "code",
   "execution_count": 5,
   "metadata": {},
   "outputs": [],
   "source": [
    "xgb_params = {\n",
    "    'n_estimators': 200,\n",
    "    'max_depth': 7,\n",
    "    'learning_rate': 0.3,\n",
    "    'subsample': 0.8,\n",
    "    'colsample_bytree': 0.8\n",
    "}"
   ]
  },
  {
   "cell_type": "code",
   "execution_count": 6,
   "metadata": {},
   "outputs": [
    {
     "data": {
      "text/html": [
       "<style>#sk-container-id-1 {color: black;background-color: white;}#sk-container-id-1 pre{padding: 0;}#sk-container-id-1 div.sk-toggleable {background-color: white;}#sk-container-id-1 label.sk-toggleable__label {cursor: pointer;display: block;width: 100%;margin-bottom: 0;padding: 0.3em;box-sizing: border-box;text-align: center;}#sk-container-id-1 label.sk-toggleable__label-arrow:before {content: \"▸\";float: left;margin-right: 0.25em;color: #696969;}#sk-container-id-1 label.sk-toggleable__label-arrow:hover:before {color: black;}#sk-container-id-1 div.sk-estimator:hover label.sk-toggleable__label-arrow:before {color: black;}#sk-container-id-1 div.sk-toggleable__content {max-height: 0;max-width: 0;overflow: hidden;text-align: left;background-color: #f0f8ff;}#sk-container-id-1 div.sk-toggleable__content pre {margin: 0.2em;color: black;border-radius: 0.25em;background-color: #f0f8ff;}#sk-container-id-1 input.sk-toggleable__control:checked~div.sk-toggleable__content {max-height: 200px;max-width: 100%;overflow: auto;}#sk-container-id-1 input.sk-toggleable__control:checked~label.sk-toggleable__label-arrow:before {content: \"▾\";}#sk-container-id-1 div.sk-estimator input.sk-toggleable__control:checked~label.sk-toggleable__label {background-color: #d4ebff;}#sk-container-id-1 div.sk-label input.sk-toggleable__control:checked~label.sk-toggleable__label {background-color: #d4ebff;}#sk-container-id-1 input.sk-hidden--visually {border: 0;clip: rect(1px 1px 1px 1px);clip: rect(1px, 1px, 1px, 1px);height: 1px;margin: -1px;overflow: hidden;padding: 0;position: absolute;width: 1px;}#sk-container-id-1 div.sk-estimator {font-family: monospace;background-color: #f0f8ff;border: 1px dotted black;border-radius: 0.25em;box-sizing: border-box;margin-bottom: 0.5em;}#sk-container-id-1 div.sk-estimator:hover {background-color: #d4ebff;}#sk-container-id-1 div.sk-parallel-item::after {content: \"\";width: 100%;border-bottom: 1px solid gray;flex-grow: 1;}#sk-container-id-1 div.sk-label:hover label.sk-toggleable__label {background-color: #d4ebff;}#sk-container-id-1 div.sk-serial::before {content: \"\";position: absolute;border-left: 1px solid gray;box-sizing: border-box;top: 0;bottom: 0;left: 50%;z-index: 0;}#sk-container-id-1 div.sk-serial {display: flex;flex-direction: column;align-items: center;background-color: white;padding-right: 0.2em;padding-left: 0.2em;position: relative;}#sk-container-id-1 div.sk-item {position: relative;z-index: 1;}#sk-container-id-1 div.sk-parallel {display: flex;align-items: stretch;justify-content: center;background-color: white;position: relative;}#sk-container-id-1 div.sk-item::before, #sk-container-id-1 div.sk-parallel-item::before {content: \"\";position: absolute;border-left: 1px solid gray;box-sizing: border-box;top: 0;bottom: 0;left: 50%;z-index: -1;}#sk-container-id-1 div.sk-parallel-item {display: flex;flex-direction: column;z-index: 1;position: relative;background-color: white;}#sk-container-id-1 div.sk-parallel-item:first-child::after {align-self: flex-end;width: 50%;}#sk-container-id-1 div.sk-parallel-item:last-child::after {align-self: flex-start;width: 50%;}#sk-container-id-1 div.sk-parallel-item:only-child::after {width: 0;}#sk-container-id-1 div.sk-dashed-wrapped {border: 1px dashed gray;margin: 0 0.4em 0.5em 0.4em;box-sizing: border-box;padding-bottom: 0.4em;background-color: white;}#sk-container-id-1 div.sk-label label {font-family: monospace;font-weight: bold;display: inline-block;line-height: 1.2em;}#sk-container-id-1 div.sk-label-container {text-align: center;}#sk-container-id-1 div.sk-container {/* jupyter's `normalize.less` sets `[hidden] { display: none; }` but bootstrap.min.css set `[hidden] { display: none !important; }` so we also need the `!important` here to be able to override the default hidden behavior on the sphinx rendered scikit-learn.org. See: https://github.com/scikit-learn/scikit-learn/issues/21755 */display: inline-block !important;position: relative;}#sk-container-id-1 div.sk-text-repr-fallback {display: none;}</style><div id=\"sk-container-id-1\" class=\"sk-top-container\"><div class=\"sk-text-repr-fallback\"><pre>XGBRegressor(base_score=None, booster=None, callbacks=None,\n",
       "             colsample_bylevel=None, colsample_bynode=None,\n",
       "             colsample_bytree=0.8, early_stopping_rounds=None,\n",
       "             enable_categorical=False, eval_metric=None, feature_types=None,\n",
       "             gamma=None, gpu_id=None, grow_policy=None, importance_type=None,\n",
       "             interaction_constraints=None, learning_rate=0.3, max_bin=None,\n",
       "             max_cat_threshold=None, max_cat_to_onehot=None,\n",
       "             max_delta_step=None, max_depth=7, max_leaves=None,\n",
       "             min_child_weight=None, missing=nan, monotone_constraints=None,\n",
       "             n_estimators=200, n_jobs=None, num_parallel_tree=None,\n",
       "             predictor=None, random_state=None, ...)</pre><b>In a Jupyter environment, please rerun this cell to show the HTML representation or trust the notebook. <br />On GitHub, the HTML representation is unable to render, please try loading this page with nbviewer.org.</b></div><div class=\"sk-container\" hidden><div class=\"sk-item\"><div class=\"sk-estimator sk-toggleable\"><input class=\"sk-toggleable__control sk-hidden--visually\" id=\"sk-estimator-id-1\" type=\"checkbox\" checked><label for=\"sk-estimator-id-1\" class=\"sk-toggleable__label sk-toggleable__label-arrow\">XGBRegressor</label><div class=\"sk-toggleable__content\"><pre>XGBRegressor(base_score=None, booster=None, callbacks=None,\n",
       "             colsample_bylevel=None, colsample_bynode=None,\n",
       "             colsample_bytree=0.8, early_stopping_rounds=None,\n",
       "             enable_categorical=False, eval_metric=None, feature_types=None,\n",
       "             gamma=None, gpu_id=None, grow_policy=None, importance_type=None,\n",
       "             interaction_constraints=None, learning_rate=0.3, max_bin=None,\n",
       "             max_cat_threshold=None, max_cat_to_onehot=None,\n",
       "             max_delta_step=None, max_depth=7, max_leaves=None,\n",
       "             min_child_weight=None, missing=nan, monotone_constraints=None,\n",
       "             n_estimators=200, n_jobs=None, num_parallel_tree=None,\n",
       "             predictor=None, random_state=None, ...)</pre></div></div></div></div></div>"
      ],
      "text/plain": [
       "XGBRegressor(base_score=None, booster=None, callbacks=None,\n",
       "             colsample_bylevel=None, colsample_bynode=None,\n",
       "             colsample_bytree=0.8, early_stopping_rounds=None,\n",
       "             enable_categorical=False, eval_metric=None, feature_types=None,\n",
       "             gamma=None, gpu_id=None, grow_policy=None, importance_type=None,\n",
       "             interaction_constraints=None, learning_rate=0.3, max_bin=None,\n",
       "             max_cat_threshold=None, max_cat_to_onehot=None,\n",
       "             max_delta_step=None, max_depth=7, max_leaves=None,\n",
       "             min_child_weight=None, missing=nan, monotone_constraints=None,\n",
       "             n_estimators=200, n_jobs=None, num_parallel_tree=None,\n",
       "             predictor=None, random_state=None, ...)"
      ]
     },
     "execution_count": 6,
     "metadata": {},
     "output_type": "execute_result"
    }
   ],
   "source": [
    "x_train = df.drop(columns = ['emission'])\n",
    "x_test = df_test \n",
    "y_train = df.emission\n",
    "model = XGBRegressor(**xgb_params)\n",
    "model.fit(x_train, y_train)"
   ]
  },
  {
   "attachments": {},
   "cell_type": "markdown",
   "metadata": {},
   "source": [
    "Design x_test"
   ]
  },
  {
   "cell_type": "code",
   "execution_count": 7,
   "metadata": {},
   "outputs": [],
   "source": [
    "df = pd.read_csv('train.csv')\n",
    "df_test = pd.read_csv('test.csv')"
   ]
  },
  {
   "cell_type": "code",
   "execution_count": 8,
   "metadata": {},
   "outputs": [],
   "source": [
    "df_grouped = df.groupby(['longitude', 'latitude'])\n",
    "lst = []\n",
    "for name, group_df in df_grouped:\n",
    "    group_df['rolling_emission3'] = group_df['emission'].rolling(window = 3, center = True).mean()\n",
    "    group_df['rolling_emission5'] = group_df['emission'].rolling(window = 5, center = True).mean()\n",
    "    group_df['rolling_emission7'] = group_df['emission'].rolling(window = 7, center = True).mean()\n",
    "    group_df['rolling_emission9'] = group_df['emission'].rolling(window = 9, center = True).mean()\n",
    "    group_df['rolling_SulphurDioxide_SO2_column_number_density'] = group_df['SulphurDioxide_SO2_column_number_density'].rolling(window = 3, center = True).mean()\n",
    "    group_df['rolling_CarbonMonoxide_CO_column_number_density'] = group_df['CarbonMonoxide_CO_column_number_density'].rolling(window = 3, center = True).mean()\n",
    "    group_df['rolling_NitrogenDioxide_tropospheric_NO2_column_number_density'] = group_df['NitrogenDioxide_tropospheric_NO2_column_number_density'].rolling(window = 3, center = True).mean()\n",
    "    group_df['rolling_Formaldehyde_tropospheric_HCHO_column_number_density'] = group_df['Formaldehyde_tropospheric_HCHO_column_number_density'].rolling(window = 3, center = True).mean()\n",
    "    group_df['week_lag_emission'] = group_df['emission'].shift(1)\n",
    "    group_df['week_future_lag_emission'] = group_df['emission'].shift(-1)\n",
    "    group_df = group_df.interpolate(method='linear', limit_direction='both')\n",
    "    lst.append(group_df)\n",
    "df = pd.concat(lst)\n",
    "\n",
    "last_year_df = (df\n",
    "                .assign(year=df['year'] + 1)\n",
    "                .loc[:, ['year'\n",
    "                         , 'week_no'\n",
    "                         , 'longitude'\n",
    "                         , 'latitude'\n",
    "                         , 'emission'\n",
    "                         , 'rolling_emission3'\n",
    "                         , 'rolling_emission5'\n",
    "                         , 'rolling_emission7'\n",
    "                         , 'rolling_emission9'\n",
    "                         , 'rolling_SulphurDioxide_SO2_column_number_density'\n",
    "                         , 'rolling_CarbonMonoxide_CO_column_number_density'\n",
    "                         , 'rolling_NitrogenDioxide_tropospheric_NO2_column_number_density'\n",
    "                         , 'rolling_Formaldehyde_tropospheric_HCHO_column_number_density']]\n",
    "                .rename(columns={'emission': 'last_year_emission'\n",
    "                                 , 'rolling_emission3': 'ly_rolling_emission3'\n",
    "                                 , 'rolling_emission5': 'ly_rolling_emission5'\n",
    "                                 , 'rolling_emission7': 'ly_rolling_emission7'\n",
    "                                 , 'rolling_emission9': 'ly_rolling_emission9'\n",
    "                                 , 'rolling_SulphurDioxide_SO2_column_number_density' : 'ly_rolling_SulphurDioxide_SO2_column_number_density'\n",
    "                                 , 'rolling_CarbonMonoxide_CO_column_number_density': 'ly_rolling_CarbonMonoxide_CO_column_number_density'\n",
    "                                 , 'rolling_NitrogenDioxide_tropospheric_NO2_column_number_density': 'ly_rolling_NitrogenDioxide_tropospheric_NO2_column_number_density'\n",
    "                                 , 'rolling_Formaldehyde_tropospheric_HCHO_column_number_density': 'ly_rolling_Formaldehyde_tropospheric_HCHO_column_number_density'}))\n",
    "######\n",
    "\n",
    "df_test = pd.merge(df_test, last_year_df, on = ['year', 'week_no', 'longitude', 'latitude'], how = 'left')\n",
    "df_test['date'] =  df_test.apply(lambda row : week_year_to_date(row.year, row.week_no), axis = 1)\n",
    "\n",
    "date_start = datetime(2020, 3, 1)\n",
    "date_end = datetime(2020, 9, 30)\n",
    "df_test = (df_test\n",
    "      .query(\"year != 2019\")\n",
    "      .query(\"date < @date_start or date > @date_end\")\n",
    "      .loc[:, ['latitude' \n",
    "               , 'longitude'\n",
    "               , 'week_no'\n",
    "               , 'year'\n",
    "               , 'last_year_emission'\n",
    "               , 'ly_rolling_emission3'\n",
    "               , 'ly_rolling_emission5'\n",
    "               , 'ly_rolling_emission7'\n",
    "               , 'ly_rolling_emission9'\n",
    "               , 'ly_rolling_SulphurDioxide_SO2_column_number_density'\n",
    "               , 'ly_rolling_CarbonMonoxide_CO_column_number_density'\n",
    "               , 'ly_rolling_NitrogenDioxide_tropospheric_NO2_column_number_density'\n",
    "               , 'ly_rolling_Formaldehyde_tropospheric_HCHO_column_number_density']])\n"
   ]
  },
  {
   "cell_type": "code",
   "execution_count": null,
   "metadata": {},
   "outputs": [],
   "source": [
    "\n",
    "y_pred = model.predict(df_test.drop(columns=['latitude', 'longitude', 'year']))\n",
    "y_pred = pd.DataFrame({'prediction': y_pred})\n",
    "df_test['emission'] = y_pred\n",
    "final_result = df_test"
   ]
  },
  {
   "cell_type": "code",
   "execution_count": null,
   "metadata": {},
   "outputs": [],
   "source": [
    "id_table = (pd.read_csv('test.csv')\n",
    "            .loc[:, ['longitude', 'latitude', 'year', 'week_no', 'ID_LAT_LON_YEAR_WEEK']])\n",
    "export = (pd.merge(final_result, id_table, on = ['year', 'week_no', 'longitude', 'latitude'], how = 'left')\n",
    "            .loc[:, ['ID_LAT_LON_YEAR_WEEK', 'emission']])\n",
    "export.to_csv('submission_4.csv', index=False)"
   ]
  }
 ],
 "metadata": {
  "kernelspec": {
   "display_name": "Python 3",
   "language": "python",
   "name": "python3"
  },
  "language_info": {
   "codemirror_mode": {
    "name": "ipython",
    "version": 3
   },
   "file_extension": ".py",
   "mimetype": "text/x-python",
   "name": "python",
   "nbconvert_exporter": "python",
   "pygments_lexer": "ipython3",
   "version": "3.11.1"
  },
  "orig_nbformat": 4,
  "vscode": {
   "interpreter": {
    "hash": "aee8b7b246df8f9039afb4144a1f6fd8d2ca17a180786b69acc140d282b71a49"
   }
  }
 },
 "nbformat": 4,
 "nbformat_minor": 2
}
