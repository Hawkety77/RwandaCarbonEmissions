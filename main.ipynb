{
 "cells": [
  {
   "attachments": {},
   "cell_type": "markdown",
   "metadata": {},
   "source": [
    "Importing Libraries"
   ]
  },
  {
   "cell_type": "code",
   "execution_count": 9,
   "metadata": {},
   "outputs": [],
   "source": [
    "import pandas as pd\n",
    "import numpy as np\n",
    "import matplotlib.pyplot as plt\n",
    "import seaborn as sn\n",
    "from datetime import datetime, timedelta"
   ]
  },
  {
   "cell_type": "code",
   "execution_count": 20,
   "metadata": {},
   "outputs": [
    {
     "ename": "TypeError",
     "evalue": "cannot convert the series to <class 'int'>",
     "output_type": "error",
     "traceback": [
      "\u001b[0;31m---------------------------------------------------------------------------\u001b[0m",
      "\u001b[0;31mTypeError\u001b[0m                                 Traceback (most recent call last)",
      "Cell \u001b[0;32mIn[20], line 7\u001b[0m\n\u001b[1;32m      2\u001b[0m     starting_date \u001b[39m=\u001b[39m datetime(\u001b[39mint\u001b[39m(year), \u001b[39m1\u001b[39m, \u001b[39m1\u001b[39m)\n\u001b[1;32m      3\u001b[0m     \u001b[39mreturn\u001b[39;00m starting_date \u001b[39m+\u001b[39m timedelta(\u001b[39mint\u001b[39m(week)\u001b[39m*\u001b[39m\u001b[39m7\u001b[39m\u001b[39m-\u001b[39m\u001b[39m7\u001b[39m)\n\u001b[1;32m      6\u001b[0m df \u001b[39m=\u001b[39m (pd\u001b[39m.\u001b[39;49mread_csv(\u001b[39m'\u001b[39;49m\u001b[39mtrain.csv\u001b[39;49m\u001b[39m'\u001b[39;49m)\n\u001b[0;32m----> 7\u001b[0m       \u001b[39m.\u001b[39;49massign(Date \u001b[39m=\u001b[39;49m \u001b[39mlambda\u001b[39;49;00m df : week_year_to_date(df\u001b[39m.\u001b[39;49myear, df\u001b[39m.\u001b[39;49mweek_no)))\n\u001b[1;32m     10\u001b[0m \u001b[39mprint\u001b[39m(df)\n",
      "File \u001b[0;32m/Library/Frameworks/Python.framework/Versions/3.11/lib/python3.11/site-packages/pandas/core/frame.py:4889\u001b[0m, in \u001b[0;36mDataFrame.assign\u001b[0;34m(self, **kwargs)\u001b[0m\n\u001b[1;32m   4886\u001b[0m data \u001b[39m=\u001b[39m \u001b[39mself\u001b[39m\u001b[39m.\u001b[39mcopy()\n\u001b[1;32m   4888\u001b[0m \u001b[39mfor\u001b[39;00m k, v \u001b[39min\u001b[39;00m kwargs\u001b[39m.\u001b[39mitems():\n\u001b[0;32m-> 4889\u001b[0m     data[k] \u001b[39m=\u001b[39m com\u001b[39m.\u001b[39;49mapply_if_callable(v, data)\n\u001b[1;32m   4890\u001b[0m \u001b[39mreturn\u001b[39;00m data\n",
      "File \u001b[0;32m/Library/Frameworks/Python.framework/Versions/3.11/lib/python3.11/site-packages/pandas/core/common.py:374\u001b[0m, in \u001b[0;36mapply_if_callable\u001b[0;34m(maybe_callable, obj, **kwargs)\u001b[0m\n\u001b[1;32m    363\u001b[0m \u001b[39m\u001b[39m\u001b[39m\"\"\"\u001b[39;00m\n\u001b[1;32m    364\u001b[0m \u001b[39mEvaluate possibly callable input using obj and kwargs if it is callable,\u001b[39;00m\n\u001b[1;32m    365\u001b[0m \u001b[39motherwise return as it is.\u001b[39;00m\n\u001b[0;32m   (...)\u001b[0m\n\u001b[1;32m    371\u001b[0m \u001b[39m**kwargs\u001b[39;00m\n\u001b[1;32m    372\u001b[0m \u001b[39m\"\"\"\u001b[39;00m\n\u001b[1;32m    373\u001b[0m \u001b[39mif\u001b[39;00m \u001b[39mcallable\u001b[39m(maybe_callable):\n\u001b[0;32m--> 374\u001b[0m     \u001b[39mreturn\u001b[39;00m maybe_callable(obj, \u001b[39m*\u001b[39;49m\u001b[39m*\u001b[39;49mkwargs)\n\u001b[1;32m    376\u001b[0m \u001b[39mreturn\u001b[39;00m maybe_callable\n",
      "Cell \u001b[0;32mIn[20], line 7\u001b[0m, in \u001b[0;36m<lambda>\u001b[0;34m(df)\u001b[0m\n\u001b[1;32m      2\u001b[0m     starting_date \u001b[39m=\u001b[39m datetime(\u001b[39mint\u001b[39m(year), \u001b[39m1\u001b[39m, \u001b[39m1\u001b[39m)\n\u001b[1;32m      3\u001b[0m     \u001b[39mreturn\u001b[39;00m starting_date \u001b[39m+\u001b[39m timedelta(\u001b[39mint\u001b[39m(week)\u001b[39m*\u001b[39m\u001b[39m7\u001b[39m\u001b[39m-\u001b[39m\u001b[39m7\u001b[39m)\n\u001b[1;32m      6\u001b[0m df \u001b[39m=\u001b[39m (pd\u001b[39m.\u001b[39mread_csv(\u001b[39m'\u001b[39m\u001b[39mtrain.csv\u001b[39m\u001b[39m'\u001b[39m)\n\u001b[0;32m----> 7\u001b[0m       \u001b[39m.\u001b[39massign(Date \u001b[39m=\u001b[39m \u001b[39mlambda\u001b[39;00m df : week_year_to_date(df\u001b[39m.\u001b[39;49myear, df\u001b[39m.\u001b[39;49mweek_no)))\n\u001b[1;32m     10\u001b[0m \u001b[39mprint\u001b[39m(df)\n",
      "Cell \u001b[0;32mIn[20], line 2\u001b[0m, in \u001b[0;36mweek_year_to_date\u001b[0;34m(year, week)\u001b[0m\n\u001b[1;32m      1\u001b[0m \u001b[39mdef\u001b[39;00m \u001b[39mweek_year_to_date\u001b[39m(year, week):\n\u001b[0;32m----> 2\u001b[0m     starting_date \u001b[39m=\u001b[39m datetime(\u001b[39mint\u001b[39;49m(year), \u001b[39m1\u001b[39m, \u001b[39m1\u001b[39m)\n\u001b[1;32m      3\u001b[0m     \u001b[39mreturn\u001b[39;00m starting_date \u001b[39m+\u001b[39m timedelta(\u001b[39mint\u001b[39m(week)\u001b[39m*\u001b[39m\u001b[39m7\u001b[39m\u001b[39m-\u001b[39m\u001b[39m7\u001b[39m)\n",
      "File \u001b[0;32m/Library/Frameworks/Python.framework/Versions/3.11/lib/python3.11/site-packages/pandas/core/series.py:206\u001b[0m, in \u001b[0;36m_coerce_method.<locals>.wrapper\u001b[0;34m(self)\u001b[0m\n\u001b[1;32m    204\u001b[0m \u001b[39mif\u001b[39;00m \u001b[39mlen\u001b[39m(\u001b[39mself\u001b[39m) \u001b[39m==\u001b[39m \u001b[39m1\u001b[39m:\n\u001b[1;32m    205\u001b[0m     \u001b[39mreturn\u001b[39;00m converter(\u001b[39mself\u001b[39m\u001b[39m.\u001b[39miloc[\u001b[39m0\u001b[39m])\n\u001b[0;32m--> 206\u001b[0m \u001b[39mraise\u001b[39;00m \u001b[39mTypeError\u001b[39;00m(\u001b[39mf\u001b[39m\u001b[39m\"\u001b[39m\u001b[39mcannot convert the series to \u001b[39m\u001b[39m{\u001b[39;00mconverter\u001b[39m}\u001b[39;00m\u001b[39m\"\u001b[39m)\n",
      "\u001b[0;31mTypeError\u001b[0m: cannot convert the series to <class 'int'>"
     ]
    }
   ],
   "source": [
    "def week_year_to_date(year, week):\n",
    "    starting_date = datetime(int(year), 1, 1)\n",
    "    return starting_date + timedelta(int(week)*7-7)\n",
    "\n",
    "\n",
    "df = (pd.read_csv('train.csv')\n",
    "      .assign(Date = lambda df : week_year_to_date(df.year, df.week_no)))\n",
    "    \n",
    "\n",
    "print(df)\n"
   ]
  },
  {
   "cell_type": "code",
   "execution_count": null,
   "metadata": {},
   "outputs": [],
   "source": [
    "features = [75]\n",
    "features.extend(list(range(0, 74)))\n",
    "df_1 = df.iloc[:, features]\n",
    "corr_matrix = df_1.corr()\n",
    "sn.heatmap(corr_matrix, annot=False)\n",
    "plt.show()"
   ]
  },
  {
   "cell_type": "code",
   "execution_count": null,
   "metadata": {},
   "outputs": [],
   "source": [
    "df_2 = (df\n",
    "        .corr()\n",
    "        .loc[:, 'emission']\n",
    "        .sort_values())\n",
    "print(df_2)"
   ]
  },
  {
   "cell_type": "code",
   "execution_count": 3,
   "metadata": {},
   "outputs": [],
   "source": [
    "df_3 = (df\n",
    "        .query(\"longitude == 29.290\")\n",
    "        .loc[:'emission'])"
   ]
  }
 ],
 "metadata": {
  "kernelspec": {
   "display_name": "Python 3",
   "language": "python",
   "name": "python3"
  },
  "language_info": {
   "codemirror_mode": {
    "name": "ipython",
    "version": 3
   },
   "file_extension": ".py",
   "mimetype": "text/x-python",
   "name": "python",
   "nbconvert_exporter": "python",
   "pygments_lexer": "ipython3",
   "version": "3.11.1"
  },
  "orig_nbformat": 4,
  "vscode": {
   "interpreter": {
    "hash": "aee8b7b246df8f9039afb4144a1f6fd8d2ca17a180786b69acc140d282b71a49"
   }
  }
 },
 "nbformat": 4,
 "nbformat_minor": 2
}
